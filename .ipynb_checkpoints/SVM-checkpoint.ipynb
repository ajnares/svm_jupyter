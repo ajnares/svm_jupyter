{
 "cells": [
  {
   "cell_type": "code",
   "execution_count": 1,
   "id": "b89c4115",
   "metadata": {},
   "outputs": [],
   "source": [
    "from tensorflow.compat.v1 import ConfigProto\n",
    "from tensorflow.compat.v1 import InteractiveSession\n",
    "\n",
    "config = ConfigProto()\n",
    "config.gpu_options.per_process_gpu_memory_fraction = 0.5\n",
    "config.gpu_options.allow_growth = True\n",
    "session = InteractiveSession(config=config)"
   ]
  },
  {
   "cell_type": "code",
   "execution_count": 2,
   "id": "100088c9",
   "metadata": {},
   "outputs": [],
   "source": [
    "import tensorflow as tf\n",
    "from tensorflow.keras.preprocessing.image import ImageDataGenerator"
   ]
  },
  {
   "cell_type": "code",
   "execution_count": 3,
   "id": "eb5c1d60",
   "metadata": {},
   "outputs": [
    {
     "data": {
      "text/plain": [
       "'2.9.0'"
      ]
     },
     "execution_count": 3,
     "metadata": {},
     "output_type": "execute_result"
    }
   ],
   "source": [
    "tf.__version__"
   ]
  },
  {
   "cell_type": "code",
   "execution_count": 4,
   "id": "d077ba80",
   "metadata": {},
   "outputs": [],
   "source": [
    "train_datagen = ImageDataGenerator(rescale = 1./255,\n",
    "                                  shear_range = 0.2,\n",
    "                                  zoom_range = 0.2,\n",
    "                                  horizontal_flip = True)"
   ]
  },
  {
   "cell_type": "code",
   "execution_count": 10,
   "id": "d5d7d6f3",
   "metadata": {},
   "outputs": [
    {
     "name": "stdout",
     "output_type": "stream",
     "text": [
      "Found 20348 images belonging to 4 classes.\n",
      "Found 10180 images belonging to 4 classes.\n"
     ]
    }
   ],
   "source": [
    "training_set = train_datagen.flow_from_directory('C:/Users/Admin/Desktop/school works/beans/data/train',\n",
    "                                                target_size= (64,64),\n",
    "                                                batch_size = 32,\n",
    "                                                class_mode = 'categorical')\n",
    "\n",
    "test_datagen = ImageDataGenerator(rescale = 1./255)\n",
    "test_set = test_datagen.flow_from_directory('C:/Users/Admin/Desktop/school works/beans/data/test',\n",
    "                                            target_size= (64,64),\n",
    "                                            batch_size = 32,\n",
    "                                            class_mode = 'categorical')"
   ]
  },
  {
   "cell_type": "code",
   "execution_count": 11,
   "id": "dd60193f",
   "metadata": {},
   "outputs": [],
   "source": [
    "from tensorflow.keras.layers import Conv2D\n",
    "from tensorflow.keras.layers import Dense"
   ]
  },
  {
   "cell_type": "code",
   "execution_count": 12,
   "id": "e046168b",
   "metadata": {},
   "outputs": [],
   "source": [
    "from tensorflow.keras.regularizers import l2"
   ]
  },
  {
   "cell_type": "code",
   "execution_count": 19,
   "id": "4ac81bbd",
   "metadata": {},
   "outputs": [],
   "source": [
    "svm = tf.keras.models.Sequential()\n",
    "svm.add(tf.keras.layers.Conv2D(filters=32, padding=\"same\", kernel_size=3, activation='relu', strides=2, input_shape=[64,64,3]))\n",
    "svm.add(tf.keras.layers.MaxPool2D(pool_size=2,strides=2))\n",
    "svm.add(tf.keras.layers.Flatten())\n",
    "svm.add(tf.keras.layers.Dense(units=128, activation='relu'))\n",
    "svm.add(Dense(4, kernel_regularizer=tf.keras.regularizers.l2(0.01),activation\n",
    "             ='softmax'))\n",
    "\n",
    "svm.compile(optimizer ='adam', loss='squared_hinge', metrics =['accuracy'])"
   ]
  },
  {
   "cell_type": "code",
   "execution_count": 20,
   "id": "2041e4c3",
   "metadata": {},
   "outputs": [
    {
     "name": "stdout",
     "output_type": "stream",
     "text": [
      "Model: \"sequential_1\"\n",
      "_________________________________________________________________\n",
      " Layer (type)                Output Shape              Param #   \n",
      "=================================================================\n",
      " conv2d_1 (Conv2D)           (None, 32, 32, 32)        896       \n",
      "                                                                 \n",
      " max_pooling2d_1 (MaxPooling  (None, 16, 16, 32)       0         \n",
      " 2D)                                                             \n",
      "                                                                 \n",
      " flatten_1 (Flatten)         (None, 8192)              0         \n",
      "                                                                 \n",
      " dense_2 (Dense)             (None, 128)               1048704   \n",
      "                                                                 \n",
      " dense_3 (Dense)             (None, 4)                 516       \n",
      "                                                                 \n",
      "=================================================================\n",
      "Total params: 1,050,116\n",
      "Trainable params: 1,050,116\n",
      "Non-trainable params: 0\n",
      "_________________________________________________________________\n"
     ]
    }
   ],
   "source": [
    "svm.summary()"
   ]
  },
  {
   "cell_type": "code",
   "execution_count": 23,
   "id": "77443d80",
   "metadata": {},
   "outputs": [
    {
     "name": "stdout",
     "output_type": "stream",
     "text": [
      "Epoch 1/15\n",
      "636/636 [==============================] - 796s 1s/step - loss: 0.8354 - accuracy: 0.8877 - val_loss: 0.9501 - val_accuracy: 0.6343\n",
      "Epoch 2/15\n",
      "636/636 [==============================] - 745s 1s/step - loss: 0.8187 - accuracy: 0.9116 - val_loss: 0.9211 - val_accuracy: 0.7043\n",
      "Epoch 3/15\n",
      "636/636 [==============================] - 722s 1s/step - loss: 0.8105 - accuracy: 0.9216 - val_loss: 0.9088 - val_accuracy: 0.7325\n",
      "Epoch 4/15\n",
      "636/636 [==============================] - 932s 1s/step - loss: 0.8064 - accuracy: 0.9275 - val_loss: 0.9101 - val_accuracy: 0.7093\n",
      "Epoch 5/15\n",
      "636/636 [==============================] - 986s 2s/step - loss: 0.7988 - accuracy: 0.9421 - val_loss: 0.9158 - val_accuracy: 0.6885\n",
      "Epoch 6/15\n",
      "636/636 [==============================] - 1003s 2s/step - loss: 0.7926 - accuracy: 0.9526 - val_loss: 0.9067 - val_accuracy: 0.7220\n",
      "Epoch 7/15\n",
      "636/636 [==============================] - 1085s 2s/step - loss: 0.7879 - accuracy: 0.9569 - val_loss: 0.9114 - val_accuracy: 0.6999\n",
      "Epoch 8/15\n",
      "636/636 [==============================] - 857s 1s/step - loss: 0.7873 - accuracy: 0.9581 - val_loss: 0.9011 - val_accuracy: 0.7272\n",
      "Epoch 9/15\n",
      "636/636 [==============================] - 773s 1s/step - loss: 0.7856 - accuracy: 0.9596 - val_loss: 0.9313 - val_accuracy: 0.6498\n",
      "Epoch 10/15\n",
      "636/636 [==============================] - 764s 1s/step - loss: 0.7816 - accuracy: 0.9648 - val_loss: 0.9118 - val_accuracy: 0.6948\n",
      "Epoch 11/15\n",
      "636/636 [==============================] - 724s 1s/step - loss: 0.7801 - accuracy: 0.9650 - val_loss: 0.9267 - val_accuracy: 0.6668\n",
      "Epoch 12/15\n",
      "636/636 [==============================] - 772s 1s/step - loss: 0.7783 - accuracy: 0.9673 - val_loss: 0.9132 - val_accuracy: 0.6931\n",
      "Epoch 13/15\n",
      "636/636 [==============================] - 798s 1s/step - loss: 0.7774 - accuracy: 0.9683 - val_loss: 0.9119 - val_accuracy: 0.6970\n",
      "Epoch 14/15\n",
      "636/636 [==============================] - 767s 1s/step - loss: 0.7754 - accuracy: 0.9699 - val_loss: 0.9091 - val_accuracy: 0.7072\n",
      "Epoch 15/15\n",
      "636/636 [==============================] - 755s 1s/step - loss: 0.7752 - accuracy: 0.9701 - val_loss: 0.9092 - val_accuracy: 0.6963\n"
     ]
    }
   ],
   "source": [
    "svm.compile(optimizer ='adam', loss='hinge', metrics =['accuracy'])\n",
    "r=cnn.fit(x = training_set,validation_data = test_set, epochs = 20)"
   ]
  },
  {
   "cell_type": "code",
   "execution_count": 24,
   "id": "b44b1c78",
   "metadata": {},
   "outputs": [
    {
     "data": {
      "image/png": "[encoded data removed]",
      "text/plain": [
       "<Figure size 432x288 with 1 Axes>"
      ]
     },
     "metadata": {
      "needs_background": "light"
     },
     "output_type": "display_data"
    },
    {
     "data": {
      "image/png": "[encoded data removed]",
      "text/plain": [
       "<Figure size 432x288 with 1 Axes>"
      ]
     },
     "metadata": {
      "needs_background": "light"
     },
     "output_type": "display_data"
    },
    {
     "data": {
      "text/plain": [
       "<Figure size 432x288 with 0 Axes>"
      ]
     },
     "metadata": {},
     "output_type": "display_data"
    }
   ],
   "source": [
    "import matplotlib.pyplot as plt\n",
    "plt.plot(r.history['loss'], label='train loss')\n",
    "plt.plot(r.history['val_loss'], label='val loss')\n",
    "plt.legend()\n",
    "plt.show()\n",
    "plt.savefig('LossVal_loss')\n",
    "\n",
    "# plot the accuracy\n",
    "plt.plot(r.history['accuracy'], label='train acc')\n",
    "plt.plot(r.history['val_accuracy'], label='val acc')\n",
    "plt.legend()\n",
    "plt.show()\n",
    "plt.savefig('AccVal_acc')"
   ]
  },
  {
   "cell_type": "code",
   "execution_count": 25,
   "id": "1b060cc0",
   "metadata": {},
   "outputs": [],
   "source": [
    "from tensorflow.keras.models import load_model\n",
    "\n",
    "svm.save('model_svm_beans.h5')"
   ]
  },
  {
   "cell_type": "code",
   "execution_count": 28,
   "id": "14cce9e2",
   "metadata": {},
   "outputs": [],
   "source": [
    "from tensorflow.keras.models import load_model\n",
    " \n",
    "# load model\n",
    "model = load_model('model_svm_beans.h5')"
   ]
  },
  {
   "cell_type": "code",
   "execution_count": 29,
   "id": "4ebf7eb8",
   "metadata": {},
   "outputs": [
    {
     "name": "stdout",
     "output_type": "stream",
     "text": [
      "Model: \"sequential_1\"\n",
      "_________________________________________________________________\n",
      " Layer (type)                Output Shape              Param #   \n",
      "=================================================================\n",
      " conv2d_1 (Conv2D)           (None, 32, 32, 32)        896       \n",
      "                                                                 \n",
      " max_pooling2d_1 (MaxPooling  (None, 16, 16, 32)       0         \n",
      " 2D)                                                             \n",
      "                                                                 \n",
      " flatten_1 (Flatten)         (None, 8192)              0         \n",
      "                                                                 \n",
      " dense_2 (Dense)             (None, 128)               1048704   \n",
      "                                                                 \n",
      " dense_3 (Dense)             (None, 4)                 516       \n",
      "                                                                 \n",
      "=================================================================\n",
      "Total params: 1,050,116\n",
      "Trainable params: 1,050,116\n",
      "Non-trainable params: 0\n",
      "_________________________________________________________________\n"
     ]
    }
   ],
   "source": [
    "model.summary()"
   ]
  },
  {
   "cell_type": "code",
   "execution_count": 46,
   "id": "3992797c",
   "metadata": {},
   "outputs": [
    {
     "name": "stdout",
     "output_type": "stream",
     "text": [
      "1/1 [==============================] - 0s 19ms/step\n"
     ]
    }
   ],
   "source": [
    "#FOR TEST\n",
    "import numpy as np\n",
    "from tensorflow.keras.preprocessing import image\n",
    "test_image = image.load_img('C:/Users/Admin/Desktop/school works/beans/data/test/Grade 2/IMG_0004.JPEG', target_size = (64,64))\n",
    "test_image = image.img_to_array(test_image)\n",
    "test_image=test_image/255\n",
    "test_image = np.expand_dims(test_image, axis = 0)\n",
    "result = cnn.predict(test_image)"
   ]
  },
  {
   "cell_type": "code",
   "execution_count": 51,
   "id": "a3cc7182",
   "metadata": {},
   "outputs": [
    {
     "data": {
      "text/plain": [
       "array([[1.4707943e-03, 9.7383612e-01, 1.3988983e-07, 2.4692850e-02]],\n",
       "      dtype=float32)"
      ]
     },
     "execution_count": 51,
     "metadata": {},
     "output_type": "execute_result"
    }
   ],
   "source": [
    "result"
   ]
  },
  {
   "cell_type": "code",
   "execution_count": 47,
   "id": "34ca5061",
   "metadata": {},
   "outputs": [],
   "source": []
  },
  {
   "cell_type": "code",
   "execution_count": null,
   "id": "038d7117",
   "metadata": {},
   "outputs": [],
   "source": []
  },
  {
   "cell_type": "code",
   "execution_count": null,
   "id": "3c05aded",
   "metadata": {},
   "outputs": [],
   "source": []
  }
 ],
 "metadata": {
  "kernelspec": {
   "display_name": "Python 3 (ipykernel)",
   "language": "python",
   "name": "python3"
  },
  "language_info": {
   "codemirror_mode": {
    "name": "ipython",
    "version": 3
   },
   "file_extension": ".py",
   "mimetype": "text/x-python",
   "name": "python",
   "nbconvert_exporter": "python",
   "pygments_lexer": "ipython3",
   "version": "3.10.10"
  }
 },
 "nbformat": 4,
 "nbformat_minor": 5
}
